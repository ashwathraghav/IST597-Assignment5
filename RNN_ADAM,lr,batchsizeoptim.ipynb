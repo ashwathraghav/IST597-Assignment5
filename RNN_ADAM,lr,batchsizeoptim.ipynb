{
  "cells": [
    {
      "cell_type": "markdown",
      "metadata": {
        "id": "view-in-github"
      },
      "source": [
        "<a href=\"https://colab.research.google.com/github/AnkurMali/IST597_SP21/blob/main/IST597_SP21_RNN.ipynb\" target=\"_parent\"><img src=\"https://colab.research.google.com/assets/colab-badge.svg\" alt=\"Open In Colab\"/></a>"
      ]
    },
    {
      "cell_type": "markdown",
      "metadata": {
        "id": "-C4rdQxKP7UT"
      },
      "source": [
        "# IST597 :Recurrent Neural Networks (RNNs) for sequence classification\n",
        "Thanks to @googleAI, @Keras, @madlalina @nvidia_research \n",
        "----\n",
        "\n",
        "We will be  building a RNN for sentiment analysis on IMDB movie reviews ( [stanford_imdb](https://https://ai.stanford.edu/~amaas/data/sentiment/)). \n"
      ]
    },
    {
      "cell_type": "code",
      "execution_count": 4,
      "metadata": {
        "id": "rvcyRuYbP7UV"
      },
      "outputs": [],
      "source": [
        "import tensorflow as tf\n",
        "import pandas as pd\n",
        "import pickle\n",
        "import matplotlib.pyplot as plt\n",
        "%matplotlib inline\n",
        "tf.random.set_seed(6447)"
      ]
    },
    {
      "cell_type": "markdown",
      "source": [
        "Data-utils.py import was not working, so I copy pasted the file into the next cell!"
      ],
      "metadata": {
        "id": "j0DXIsYTGX5p"
      }
    },
    {
      "cell_type": "code",
      "execution_count": 5,
      "metadata": {
        "id": "ur6a2Sw5WJjM"
      },
      "outputs": [],
      "source": [
        "'''\n",
        "This script contains several functions used for data processing.\n",
        "'''\n",
        "\n",
        "#############################################################################\n",
        "# Import here useful libraries\n",
        "#############################################################################\n",
        "from nltk.tokenize import word_tokenize\n",
        "import tensorflow as tf\n",
        "import pandas as pd\n",
        "import pickle\n",
        "import random\n",
        "import glob\n",
        "import nltk\n",
        "import re\n",
        "\n",
        "try:\n",
        "    nltk.data.find('tokenizers/punkt')\n",
        "except LookupError:\n",
        "    nltk.download('punkt')\n",
        "\n",
        "\n",
        "def imdb2tfrecords(path_data='datasets/aclImdb/', min_word_frequency=5,\n",
        "                   max_words_review=700):\n",
        "    '''\n",
        "    This script processes the data and saves it in the default TensorFlow \n",
        "    file format: tfrecords.\n",
        "    \n",
        "    Args:\n",
        "        path_data: the path where the imdb data is stored.\n",
        "        min_word_frequency: the minimum frequency of a word, to keep it\n",
        "                            in the vocabulary.\n",
        "        max_words_review: the maximum number of words allowed in a review.\n",
        "    '''\n",
        "    # Get the filenames of the positive/negative reviews we will use\n",
        "    # for training the RNN\n",
        "    train_pos_files = glob.glob(path_data + 'train/pos/*')\n",
        "    train_neg_files = glob.glob(path_data + 'train/neg/*')\n",
        "\n",
        "    # Concatenate both positive and negative reviews filenames\n",
        "    train_files = train_pos_files + train_neg_files\n",
        "    \n",
        "    # List with all the reviews in the train dataset\n",
        "    reviews = [open(train_files[i],'r').read() for i in range(len(train_files))]\n",
        "    \n",
        "    # Remove HTML tags\n",
        "    reviews = [re.sub(r'<[^>]+>', ' ', review) for review in reviews]\n",
        "        \n",
        "    # Tokenize each review in part\n",
        "    reviews = [word_tokenize(review) for review in reviews]\n",
        "    \n",
        "    # Compute the length of each review\n",
        "    len_reviews = [len(review) for review in reviews]\n",
        "    pickle.dump(len_reviews, open(path_data + 'length_reviews.pkl', 'wb'))\n",
        "\n",
        "    # Flatten nested list\n",
        "    reviews = [word for review in reviews for word in review]\n",
        "    \n",
        "    # Compute the frequency of each word\n",
        "    word_frequency = pd.value_counts(reviews)\n",
        "    \n",
        "    # Keep only words with frequency higher than minimum\n",
        "    vocabulary = word_frequency[word_frequency>=min_word_frequency].index.tolist()\n",
        "    \n",
        "    # Add Unknown, Start and End token. \n",
        "    extra_tokens = ['Unknown_token', 'End_token']\n",
        "    vocabulary += extra_tokens\n",
        "    \n",
        "    # Create a word2idx dictionary\n",
        "    word2idx = {vocabulary[i]: i for i in range(len(vocabulary))}\n",
        "    \n",
        "    # Write word vocabulary to disk\n",
        "    pickle.dump(word2idx, open(path_data + 'word2idx.pkl', 'wb'))\n",
        "        \n",
        "    def text2tfrecords(filenames, writer, vocabulary, word2idx,\n",
        "                       max_words_review):\n",
        "        '''\n",
        "        Function to parse each review in part and write to disk\n",
        "        as a tfrecord.\n",
        "        \n",
        "        Args:\n",
        "            filenames: the paths of the review files.\n",
        "            writer: the writer object for tfrecords.\n",
        "            vocabulary: list with all the words included in the vocabulary.\n",
        "            word2idx: dictionary of words and their corresponding indexes.\n",
        "        '''\n",
        "        # Shuffle filenames\n",
        "        random.shuffle(filenames)\n",
        "        for filename in filenames:\n",
        "            review = open(filename, 'r').read()\n",
        "            review = re.sub(r'<[^>]+>', ' ', review)\n",
        "            review = word_tokenize(review)\n",
        "            # Reduce review to max words\n",
        "            review = review[-max_words_review:]\n",
        "            # Replace words with their equivalent index from word2idx\n",
        "            review = [word2idx[word] if word in vocabulary else \n",
        "                      word2idx['Unknown_token'] for word in review]\n",
        "            indexed_review = review + [word2idx['End_token']]\n",
        "            sequence_length = len(indexed_review)\n",
        "            target = 1 if filename.split('/')[-2]=='pos' else 0\n",
        "            # Create a Sequence Example to store our data in\n",
        "            ex = tf.train.SequenceExample()\n",
        "            # Add non-sequential features to our example\n",
        "            ex.context.feature['sequence_length'].int64_list.value.append(sequence_length)\n",
        "            ex.context.feature['target'].int64_list.value.append(target)\n",
        "            # Add sequential feature\n",
        "            token_indexes = ex.feature_lists.feature_list['token_indexes']\n",
        "            for token_index in indexed_review:\n",
        "                token_indexes.feature.add().int64_list.value.append(token_index)\n",
        "            writer.write(ex.SerializeToString())\n",
        "    \n",
        "    ##########################################################################     \n",
        "    # Write train data to tfrecords.This might take a while (~10 minutes)\n",
        "    ##########################################################################\n",
        "    train_writer = tf.python_io.TFRecordWriter(path_data + 'train.tfrecords')\n",
        "    text2tfrecords(train_files, train_writer, vocabulary, word2idx, \n",
        "                   max_words_review)\n",
        "\n",
        "    ##########################################################################\n",
        "    # Get the filenames of the reviews we will use for testing the RNN \n",
        "    ##########################################################################\n",
        "    test_pos_files = glob.glob(path_data + 'test/pos/*')\n",
        "    test_neg_files = glob.glob(path_data + 'test/neg/*')\n",
        "    test_files = test_pos_files + test_neg_files\n",
        "\n",
        "    ##########################################################################\n",
        "    # Write test data to tfrecords (~10 minutes)\n",
        "    ##########################################################################\n",
        "    test_writer = tf.python_io.TFRecordWriter('datasets/aclImdb/test.tfrecords')\n",
        "    text2tfrecords(test_files, test_writer, vocabulary, word2idx,\n",
        "                   max_words_review)\n",
        "\n",
        "\n",
        "def parse_imdb_sequence(record):\n",
        "    '''\n",
        "    Script to parse imdb tfrecords.\n",
        "    \n",
        "    Returns:\n",
        "        token_indexes: sequence of token indexes present in the review.\n",
        "        target: the target of the movie review.\n",
        "        sequence_length: the length of the sequence.\n",
        "    '''\n",
        "    context_features = {\n",
        "        'sequence_length': tf.io.FixedLenFeature([], dtype=tf.int64),\n",
        "        'target': tf.io.FixedLenFeature([], dtype=tf.int64),\n",
        "        }\n",
        "    sequence_features = {\n",
        "        'token_indexes': tf.io.FixedLenSequenceFeature([], dtype=tf.int64),\n",
        "        }\n",
        "    context_parsed, sequence_parsed = tf.io.parse_single_sequence_example(record, \n",
        "        context_features=context_features, sequence_features=sequence_features)\n",
        "        \n",
        "    return (sequence_parsed['token_indexes'], context_parsed['target'],\n",
        "            context_parsed['sequence_length'])\n",
        "\n",
        "     \n",
        "        \n"
      ]
    },
    {
      "cell_type": "code",
      "execution_count": 6,
      "metadata": {
        "colab": {
          "base_uri": "https://localhost:8080/",
          "height": 281
        },
        "id": "CMNILJ0PP7UW",
        "outputId": "54f6904a-2f9d-44a9-d8f3-73d59235b9fc"
      },
      "outputs": [
        {
          "output_type": "display_data",
          "data": {
            "text/plain": [
              "<Figure size 432x288 with 1 Axes>"
            ],
            "image/png": "[encoded data removed]"
          },
          "metadata": {
            "needs_background": "light"
          }
        }
      ],
      "source": [
        "length_reviews = pickle.load(open('/content/length_reviews.pkl', 'rb'))\n",
        "pd.DataFrame(length_reviews, columns=['Length reviews']).hist(bins=100, color='blue');\n",
        "plt.grid(False);"
      ]
    },
    {
      "cell_type": "markdown",
      "source": [
        "## data split"
      ],
      "metadata": {
        "id": "uXTGUY7gbsff"
      }
    },
    {
      "cell_type": "code",
      "execution_count": 8,
      "metadata": {
        "id": "ijVfbU9jP7UY"
      },
      "outputs": [],
      "source": [
        "train_dataset = tf.data.TFRecordDataset('/content/train.tfrecords')\n",
        "train_dataset = train_dataset.map(parse_imdb_sequence).shuffle(buffer_size=10000)\n",
        "train_dataset = train_dataset.padded_batch(512, padded_shapes=([None],[],[]))\n",
        "test_dataset = tf.data.TFRecordDataset('/content/test.tfrecords')\n",
        "test_dataset = test_dataset.map(parse_imdb_sequence).shuffle(buffer_size=10000)\n",
        "test_dataset = test_dataset.padded_batch(512, padded_shapes=([None],[],[]))"
      ]
    },
    {
      "cell_type": "code",
      "source": [
        "total_dataset = train_dataset.concatenate(test_dataset)"
      ],
      "metadata": {
        "id": "wXrac_Gla-bS"
      },
      "execution_count": 9,
      "outputs": []
    },
    {
      "cell_type": "code",
      "source": [
        "train_dataset = total_dataset.take(68) \n",
        "test_eval_dataset = total_dataset.skip(68)"
      ],
      "metadata": {
        "id": "xKVy5fcuLmoa"
      },
      "execution_count": 10,
      "outputs": []
    },
    {
      "cell_type": "code",
      "source": [
        "eval_dataset = test_eval_dataset.take(20) \n",
        "test_dataset = test_eval_dataset.skip(20)"
      ],
      "metadata": {
        "id": "YU0s2D_Cb4I1"
      },
      "execution_count": 11,
      "outputs": []
    },
    {
      "cell_type": "code",
      "execution_count": 14,
      "metadata": {
        "id": "-0boPqdDP7UY"
      },
      "outputs": [],
      "source": [
        "# Read the word vocabulary\n",
        "word2idx = pickle.load(open('/content/word2idx.pkl', 'rb'))"
      ]
    },
    {
      "cell_type": "markdown",
      "metadata": {
        "id": "7jVOSepgP7UY"
      },
      "source": [
        "## RNN model for sequence classification, compatible with Eager API \n",
        "----\n",
        "In the cell below, you can find the class that I have created for the RNN model. The API is very similar with one I created in the previous tutorial, except that now we track the accuracy of the model instead of the loss.\n",
        "\n",
        "The idea of the network is very simple. We simply take each word in the review, select its corresponding word embedding (initialized randomly in the beginning), and pass it through the RNN cell. We then take the output of the RNN cell at the end of the sequence and pass it through a dense layer (with ReLU activation) to obtain the final predictions. \n",
        "\n",
        "Like usually, the network inherits from tf.keras.Model in order to keep track of all variables and save/restore them easily.\n",
        "\n",
        "![img](tutorials_graphics/rnn_imdb.png)"
      ]
    },
    {
      "cell_type": "code",
      "execution_count": 15,
      "metadata": {
        "id": "iUoWg4BSP7UY"
      },
      "outputs": [],
      "source": [
        "class RNNModel(tf.keras.Model):\n",
        "    def __init__(self, embedding_size=100, cell_size=64, dense_size=128, \n",
        "                 num_classes=2, vocabulary_size=None, rnn_cell='lstm',\n",
        "                 device='cpu:0', checkpoint_directory=None):\n",
        "        ''' Define the parameterized layers used during forward-pass, the device\n",
        "            where you would like to run the computation on and the checkpoint\n",
        "            directory. Additionaly, you can also modify the default size of the \n",
        "            network.\n",
        "            \n",
        "            Args:\n",
        "                embedding_size: the size of the word embedding.\n",
        "                cell_size: RNN cell size.\n",
        "                dense_size: the size of the dense layer.\n",
        "                num_classes: the number of labels in the network.\n",
        "                vocabulary_size: the size of the word vocabulary.\n",
        "                rnn_cell: string, either 'lstm' or 'ugrnn'.\n",
        "                device: string, 'cpu:n' or 'gpu:n' (n can vary). Default, 'cpu:0'.\n",
        "                checkpoint_directory: the directory where you would like to save or \n",
        "                                      restore a model.\n",
        "        '''\n",
        "        super(RNNModel, self).__init__()\n",
        "        \n",
        "        # Weights initializer function\n",
        "        w_initializer = tf.compat.v1.keras.initializers.glorot_uniform()\n",
        "    \n",
        "        # Biases initializer function\n",
        "        b_initializer = tf.zeros_initializer()\n",
        "        \n",
        "        # Initialize weights for word embeddings \n",
        "        self.embeddings = tf.keras.layers.Embedding(vocabulary_size, embedding_size, \n",
        "                                                    embeddings_initializer=w_initializer)\n",
        "        \n",
        "        # Dense layer initialization\n",
        "        self.dense_layer = tf.keras.layers.Dense(dense_size, activation=tf.nn.relu, \n",
        "                                                 kernel_initializer=w_initializer, \n",
        "                                                 bias_initializer=b_initializer)\n",
        "        \n",
        "        # Predictions layer initialization\n",
        "        self.pred_layer = tf.keras.layers.Dense(num_classes, activation=None, \n",
        "                                                kernel_initializer=w_initializer, \n",
        "                                                bias_initializer=b_initializer)\n",
        "        \n",
        "        # Basic LSTM cell\n",
        "        if rnn_cell=='lstm':\n",
        "            self.rnn_cell = tf.compat.v1.nn.rnn_cell.BasicLSTMCell(cell_size)\n",
        "        # Else RNN cell\n",
        "        else:\n",
        "            self.rnn_cell = tf.compat.v1.nn.rnn_cell.BasicRNNCell(cell_size)\n",
        "            \n",
        "        # Define the device \n",
        "        self.device = device\n",
        "        \n",
        "        # Define the checkpoint directory\n",
        "        self.checkpoint_directory = checkpoint_directory\n",
        "        \n",
        "    def predict(self, X, seq_length, is_training):\n",
        "        '''\n",
        "        Predicts the probability of each class, based on the input sample.\n",
        "\n",
        "        Args:\n",
        "            X: 2D tensor of shape (batch_size, time_steps).\n",
        "            seq_length: the length of each sequence in the batch.\n",
        "            is_training: Boolean. Either the network is predicting in\n",
        "                         training mode or not.\n",
        "        '''\n",
        "        \n",
        "        # Get the number of samples within a batch\n",
        "        num_samples = tf.shape(X)[0]\n",
        "\n",
        "        # Initialize LSTM cell state with zeros\n",
        "        state = self.rnn_cell.zero_state(num_samples, dtype=tf.float32)\n",
        "        \n",
        "        # Get the embedding of each word in the sequence\n",
        "        embedded_words = self.embeddings(X)\n",
        "        \n",
        "        # Unstack the embeddings\n",
        "        unstacked_embeddings = tf.unstack(embedded_words, axis=1)\n",
        "        \n",
        "        # Iterate through each timestep and append the predictions\n",
        "        outputs = []\n",
        "        for input_step in unstacked_embeddings:\n",
        "            output, state = self.rnn_cell(input_step, state)\n",
        "            outputs.append(output)\n",
        "            \n",
        "        # Stack outputs to (batch_size, time_steps, cell_size)\n",
        "        outputs = tf.stack(outputs, axis=1)\n",
        "        \n",
        "        # Extract the output of the last time step, of each sample\n",
        "        idxs_last_output = tf.stack([tf.range(num_samples), \n",
        "                                     tf.cast(seq_length-1, tf.int32)], axis=1)\n",
        "        final_output = tf.gather_nd(outputs, idxs_last_output)\n",
        "        \n",
        "        # Add dropout for regularization\n",
        "        #dropped_output = tf.compat.v1.layers.Dropout(final_output, rate=0.3, training=is_training)\n",
        "        \n",
        "        # Pass the last cell state through a dense layer (ReLU activation)\n",
        "        dense = self.dense_layer(final_output)\n",
        "        \n",
        "        # Compute the unnormalized log probabilities\n",
        "        logits = self.pred_layer(dense)\n",
        "        return logits\n",
        "    \n",
        "    def loss_fn(self, X, y, seq_length, is_training):\n",
        "        \"\"\" Defines the loss function used during \n",
        "            training.         \n",
        "        \"\"\"\n",
        "        preds = self.predict(X, seq_length, is_training)\n",
        "        loss = tf.nn.sparse_softmax_cross_entropy_with_logits(labels=y, logits=preds)\n",
        "        return loss\n",
        "    \n",
        "    def grads_fn(self, X, y, seq_length, is_training):\n",
        "        \"\"\" Dynamically computes the gradients of the loss value\n",
        "            with respect to the parameters of the model, in each\n",
        "            forward pass.\n",
        "        \"\"\"\n",
        "        with tf.GradientTape() as tape:\n",
        "            loss = self.loss_fn(X, y, seq_length, is_training)\n",
        "        return tape.gradient(loss, self.variables)\n",
        "    \n",
        "    def restore_model(self):\n",
        "        \"\"\" Function to restore trained model.\n",
        "        \"\"\"\n",
        "        with tf.device(self.device):\n",
        "            # Run the model once to initialize variables\n",
        "            dummy_input = tf.constant(tf.zeros((1,1)))\n",
        "            dummy_length = tf.constant(1, shape=(1,))\n",
        "            dummy_pred = self.predict(dummy_input, dummy_length, False)\n",
        "            # Restore the variables of the model\n",
        "            saver = tf.compat.v1.train.Saver(self.variables)\n",
        "            saver.restore(tf.train.latest_checkpoint\n",
        "                          (self.checkpoint_directory))\n",
        "    \n",
        "    def save_model(self, global_step=0):\n",
        "        \"\"\" Function to save trained model.\n",
        "        \"\"\"\n",
        "        tf.compat.v1.train.Saver(self.variables).save(save_path=self.checkpoint_directory, \n",
        "                                       global_step=global_step)   \n",
        "        \n",
        "    def fit(self, training_data, eval_data, optimizer, num_epochs=500, \n",
        "            early_stopping_rounds=10, verbose=10, train_from_scratch=False):\n",
        "        \"\"\" Function to train the model, using the selected optimizer and\n",
        "            for the desired number of epochs. You can either train from scratch\n",
        "            or load the latest model trained. Early stopping is used in order to\n",
        "            mitigate the risk of overfitting the network.\n",
        "            \n",
        "            Args:\n",
        "                training_data: the data you would like to train the model on.\n",
        "                                Must be in the tf.data.Dataset format.\n",
        "                eval_data: the data you would like to evaluate the model on.\n",
        "                            Must be in the tf.data.Dataset format.\n",
        "                optimizer: the optimizer used during training.\n",
        "                num_epochs: the maximum number of iterations you would like to \n",
        "                            train the model.\n",
        "                early_stopping_rounds: stop training if the accuracy on the eval \n",
        "                                       dataset does not increase after n epochs.\n",
        "                verbose: int. Specify how often to print the loss value of the network.\n",
        "                train_from_scratch: boolean. Whether to initialize variables of the\n",
        "                                    the last trained model or initialize them\n",
        "                                    randomly.\n",
        "        \"\"\" \n",
        "    \n",
        "        if train_from_scratch==False:\n",
        "            self.restore_model()\n",
        "        \n",
        "        # Initialize best_acc. This variable will store the highest accuracy\n",
        "        # on the eval dataset.\n",
        "        best_acc = 0\n",
        "        \n",
        "        # Initialize classes to update the mean accuracy of train and eval\n",
        "        train_acc = tf.keras.metrics.Accuracy('train_acc')\n",
        "        eval_acc = tf.keras.metrics.Accuracy('eval_acc')\n",
        "        \n",
        "        # Initialize dictionary to store the accuracy history\n",
        "        self.history = {}\n",
        "        self.history['train_acc'] = []\n",
        "        self.history['eval_acc'] = []\n",
        "        \n",
        "        # Begin training\n",
        "        with tf.device(self.device):\n",
        "            for i in range(num_epochs):\n",
        "                # Training with gradient descent\n",
        "                for step, (X, y, seq_length) in enumerate(training_data):\n",
        "                    grads = self.grads_fn(X, y, seq_length, True)\n",
        "                    optimizer.apply_gradients(zip(grads, self.variables))\n",
        "                    \n",
        "                # Check accuracy train dataset\n",
        "                for step, (X, y, seq_length) in enumerate(training_data):\n",
        "                    logits = self.predict(X, seq_length, False)\n",
        "                    preds = tf.argmax(logits, axis=1)\n",
        "                    train_acc(preds, y)\n",
        "                self.history['train_acc'].append(train_acc.result().numpy())\n",
        "                # Reset metrics\n",
        "                train_acc.reset_states()\n",
        "\n",
        "                # Check accuracy eval dataset\n",
        "                for step, (X, y, seq_length) in enumerate(eval_data):\n",
        "                    logits = self.predict(X, seq_length, False)\n",
        "                    preds = tf.argmax(logits, axis=1)\n",
        "                    eval_acc(preds, y)\n",
        "                self.history['eval_acc'].append(eval_acc.result().numpy())\n",
        "                # Reset metrics\n",
        "                eval_acc.reset_states()\n",
        "                \n",
        "                # Print train and eval accuracy\n",
        "                if (i==0) | ((i+1)%verbose==0):\n",
        "                    print('Train accuracy at epoch %d: ' %(i+1), self.history['train_acc'][-1])\n",
        "                    print('Eval accuracy at epoch %d: ' %(i+1), self.history['eval_acc'][-1])\n",
        "\n",
        "                # Check for early stopping\n",
        "                if self.history['eval_acc'][-1]>best_acc:\n",
        "                    best_acc = self.history['eval_acc'][-1]\n",
        "                    count = early_stopping_rounds\n",
        "                else:\n",
        "                    count -= 1\n",
        "                if count==0:\n",
        "                    break  "
      ]
    },
    {
      "cell_type": "markdown",
      "metadata": {
        "id": "Pq07GFNrP7UZ"
      },
      "source": [
        "## Train model with gradient descent and early stopping\n",
        "----"
      ]
    },
    {
      "cell_type": "markdown",
      "metadata": {
        "id": "VIuGUj5CP7UZ"
      },
      "source": [
        "### Model training with simple LSTM cells\n",
        "----"
      ]
    },
    {
      "cell_type": "code",
      "execution_count": 16,
      "metadata": {
        "id": "uqk_DJZ3P7Ua",
        "colab": {
          "base_uri": "https://localhost:8080/"
        },
        "outputId": "d9e3289d-6342-4b70-8aa4-1f81915aff3d"
      },
      "outputs": [
        {
          "output_type": "stream",
          "name": "stdout",
          "text": [
            "WARNING:tensorflow:<keras.layers.legacy_rnn.rnn_cell_impl.BasicLSTMCell object at 0x7f83e5fa2090>: Note that this cell is not optimized for performance. Please use tf.contrib.cudnn_rnn.CudnnLSTM for better performance on GPU.\n"
          ]
        },
        {
          "output_type": "stream",
          "name": "stderr",
          "text": [
            "/usr/local/lib/python3.7/dist-packages/ipykernel_launcher.py:45: UserWarning: `tf.nn.rnn_cell.BasicLSTMCell` is deprecated and will be removed in a future version. This class is equivalent as `tf.keras.layers.LSTMCell`, and will be replaced by that in Tensorflow 2.0.\n"
          ]
        }
      ],
      "source": [
        "# Specify the path where you want to save/restore the trained variables.\n",
        "checkpoint_directory = 'models_checkpoints/ImdbRNN/'\n",
        "\n",
        "# Use the GPU if available.\n",
        "device = 'gpu:0'\n",
        "\n",
        "# Define optimizer.\n",
        "optimizer = tf.compat.v1.train.AdamOptimizer(learning_rate=1e-4)\n",
        "\n",
        "# Instantiate model. This doesn't initialize the variables yet.\n",
        "lstm_model = RNNModel(vocabulary_size=len(word2idx), device=device, \n",
        "                      checkpoint_directory=checkpoint_directory)"
      ]
    },
    {
      "cell_type": "code",
      "execution_count": 17,
      "metadata": {
        "id": "IXvPU8_gP7Ua",
        "colab": {
          "base_uri": "https://localhost:8080/"
        },
        "outputId": "c9418cfa-5777-4fc8-e5ef-19a41e2d70a9"
      },
      "outputs": [
        {
          "output_type": "stream",
          "name": "stderr",
          "text": [
            "/usr/local/lib/python3.7/dist-packages/keras/layers/legacy_rnn/rnn_cell_impl.py:756: UserWarning: `layer.add_variable` is deprecated and will be removed in a future version. Please use `layer.add_weight` method instead.\n",
            "  shape=[input_depth + h_depth, 4 * self._num_units])\n",
            "/usr/local/lib/python3.7/dist-packages/keras/layers/legacy_rnn/rnn_cell_impl.py:760: UserWarning: `layer.add_variable` is deprecated and will be removed in a future version. Please use `layer.add_weight` method instead.\n",
            "  initializer=tf.compat.v1.zeros_initializer(dtype=self.dtype))\n"
          ]
        },
        {
          "output_type": "stream",
          "name": "stdout",
          "text": [
            "Train accuracy at epoch 1:  0.71599287\n",
            "Eval accuracy at epoch 1:  0.7050781\n",
            "Train accuracy at epoch 2:  0.86446095\n",
            "Eval accuracy at epoch 2:  0.84472656\n",
            "Train accuracy at epoch 3:  0.91902786\n",
            "Eval accuracy at epoch 3:  0.9\n",
            "Train accuracy at epoch 4:  0.9404803\n",
            "Eval accuracy at epoch 4:  0.9105469\n",
            "Train accuracy at epoch 5:  0.9562025\n",
            "Eval accuracy at epoch 5:  0.9211914\n",
            "Train accuracy at epoch 6:  0.96679914\n",
            "Eval accuracy at epoch 6:  0.9321289\n",
            "Train accuracy at epoch 7:  0.9735948\n",
            "Eval accuracy at epoch 7:  0.9344727\n",
            "Train accuracy at epoch 8:  0.9791235\n",
            "Eval accuracy at epoch 8:  0.9359375\n",
            "Train accuracy at epoch 9:  0.9838747\n",
            "Eval accuracy at epoch 9:  0.9393555\n",
            "Train accuracy at epoch 10:  0.9878772\n",
            "Eval accuracy at epoch 10:  0.9416992\n",
            "Train accuracy at epoch 11:  0.9897489\n",
            "Eval accuracy at epoch 11:  0.93789065\n",
            "Train accuracy at epoch 12:  0.98946095\n",
            "Eval accuracy at epoch 12:  0.94316405\n",
            "Train accuracy at epoch 13:  0.9849689\n",
            "Eval accuracy at epoch 13:  0.9397461\n",
            "Train accuracy at epoch 14:  0.9925708\n",
            "Eval accuracy at epoch 14:  0.9442383\n",
            "Train accuracy at epoch 15:  0.9951048\n",
            "Eval accuracy at epoch 15:  0.95039064\n",
            "Train accuracy at epoch 16:  0.99550796\n",
            "Eval accuracy at epoch 16:  0.9489258\n",
            "Train accuracy at epoch 17:  0.9964006\n",
            "Eval accuracy at epoch 17:  0.94970703\n",
            "Train accuracy at epoch 18:  0.9971781\n",
            "Eval accuracy at epoch 18:  0.95097655\n",
            "Train accuracy at epoch 19:  0.99591106\n",
            "Eval accuracy at epoch 19:  0.9500977\n",
            "Train accuracy at epoch 20:  0.99729323\n",
            "Eval accuracy at epoch 20:  0.95107424\n"
          ]
        }
      ],
      "source": [
        "# Train model\n",
        "lstm_model.fit(train_dataset, eval_dataset, optimizer, num_epochs=20, \n",
        "                early_stopping_rounds=5, verbose=1, train_from_scratch=True)"
      ]
    },
    {
      "cell_type": "code",
      "execution_count": 18,
      "metadata": {
        "id": "_EjYsfyvBaOG"
      },
      "outputs": [],
      "source": [
        "#lstm_model.save_model()\n",
        "checkpoint = tf.train.Checkpoint(lstm_model)\n",
        "save_path = checkpoint.save(checkpoint_directory)"
      ]
    },
    {
      "cell_type": "code",
      "source": [
        "history = {}\n",
        "\n",
        "def evaluate(test_data):\n",
        "        test_acc=tf.keras.metrics.Accuracy('test_acc')\n",
        "        history['test_acc'] = []\n",
        "        # Check accuracy test dataset\n",
        "        for step, (X, y, seq_length) in enumerate(test_data):\n",
        "          logits = lstm_model.predict(X, seq_length, False)\n",
        "          preds = tf.argmax(logits, axis=1)\n",
        "          test_acc(preds, y)\n",
        "        history['test_acc'].append(test_acc.result().numpy())\n",
        "        \n",
        "        print('Test accuracy is {}' .format(history['test_acc'][-1]))\n",
        "      \n",
        "        # Reset metrics\n",
        "        test_acc.reset_states()"
      ],
      "metadata": {
        "id": "YySbQVRxAuUD"
      },
      "execution_count": 19,
      "outputs": []
    },
    {
      "cell_type": "code",
      "source": [
        "evaluate(test_dataset)"
      ],
      "metadata": {
        "id": "jT-wPbvEAxGK",
        "colab": {
          "base_uri": "https://localhost:8080/"
        },
        "outputId": "1a533c7c-60b1-475c-a755-f550e3ff04b3"
      },
      "execution_count": 20,
      "outputs": [
        {
          "output_type": "stream",
          "name": "stdout",
          "text": [
            "Test accuracy is 0.9463434219360352\n"
          ]
        }
      ]
    },
    {
      "cell_type": "markdown",
      "metadata": {
        "id": "JmzXh0ljP7Ua"
      },
      "source": [
        "### Model training with RNN cells \n",
        "---"
      ]
    },
    {
      "cell_type": "code",
      "execution_count": 21,
      "metadata": {
        "id": "TmjyKjDYP7Ub",
        "colab": {
          "base_uri": "https://localhost:8080/"
        },
        "outputId": "d9921489-aec0-4f4d-d02a-7fbc92a1aca3"
      },
      "outputs": [
        {
          "output_type": "stream",
          "name": "stdout",
          "text": [
            "WARNING:tensorflow:<keras.layers.legacy_rnn.rnn_cell_impl.BasicRNNCell object at 0x7f83e2e6c650>: Note that this cell is not optimized for performance. Please use tf.contrib.cudnn_rnn.CudnnRNNTanh for better performance on GPU.\n"
          ]
        },
        {
          "output_type": "stream",
          "name": "stderr",
          "text": [
            "/usr/local/lib/python3.7/dist-packages/ipykernel_launcher.py:48: UserWarning: `tf.nn.rnn_cell.BasicRNNCell` is deprecated and will be removed in a future version. This class is equivalent as `tf.keras.layers.SimpleRNNCell`, and will be replaced by that in Tensorflow 2.0.\n"
          ]
        }
      ],
      "source": [
        "# Define optimizer.\n",
        "optimizer = tf.compat.v1.train.AdamOptimizer(learning_rate=1e-4)\n",
        "\n",
        "# Instantiate model. This doesn't initialize the variables yet.\n",
        "ugrnn_model = RNNModel(vocabulary_size=len(word2idx), rnn_cell='ugrnn', \n",
        "                       device=device, checkpoint_directory=checkpoint_directory)"
      ]
    },
    {
      "cell_type": "code",
      "execution_count": 22,
      "metadata": {
        "id": "zd5bDpAzP7Ub",
        "colab": {
          "base_uri": "https://localhost:8080/"
        },
        "outputId": "825d9b9f-e732-43bc-8f66-dd48c53859f3"
      },
      "outputs": [
        {
          "output_type": "stream",
          "name": "stderr",
          "text": [
            "/usr/local/lib/python3.7/dist-packages/keras/layers/legacy_rnn/rnn_cell_impl.py:459: UserWarning: `layer.add_variable` is deprecated and will be removed in a future version. Please use `layer.add_weight` method instead.\n",
            "  shape=[input_depth + self._num_units, self._num_units])\n",
            "/usr/local/lib/python3.7/dist-packages/keras/layers/legacy_rnn/rnn_cell_impl.py:463: UserWarning: `layer.add_variable` is deprecated and will be removed in a future version. Please use `layer.add_weight` method instead.\n",
            "  initializer=tf.compat.v1.zeros_initializer(dtype=self.dtype))\n"
          ]
        },
        {
          "output_type": "stream",
          "name": "stdout",
          "text": [
            "Train accuracy at epoch 1:  0.7661253\n",
            "Eval accuracy at epoch 1:  0.76347655\n",
            "Train accuracy at epoch 2:  0.8870076\n",
            "Eval accuracy at epoch 2:  0.86025393\n",
            "Train accuracy at epoch 3:  0.9265722\n",
            "Eval accuracy at epoch 3:  0.9008789\n",
            "Train accuracy at epoch 4:  0.94834137\n",
            "Eval accuracy at epoch 4:  0.91308594\n",
            "Train accuracy at epoch 5:  0.9619903\n",
            "Eval accuracy at epoch 5:  0.92216796\n",
            "Train accuracy at epoch 6:  0.97255814\n",
            "Eval accuracy at epoch 6:  0.9267578\n",
            "Train accuracy at epoch 7:  0.9768199\n",
            "Eval accuracy at epoch 7:  0.93173826\n",
            "Train accuracy at epoch 8:  0.9790371\n",
            "Eval accuracy at epoch 8:  0.93222654\n",
            "Train accuracy at epoch 9:  0.9832988\n",
            "Eval accuracy at epoch 9:  0.9333008\n",
            "Train accuracy at epoch 10:  0.9809376\n",
            "Eval accuracy at epoch 10:  0.93359375\n",
            "Train accuracy at epoch 11:  0.9890002\n",
            "Eval accuracy at epoch 11:  0.94023436\n",
            "Train accuracy at epoch 12:  0.9882228\n",
            "Eval accuracy at epoch 12:  0.9369141\n",
            "Train accuracy at epoch 13:  0.9890002\n",
            "Eval accuracy at epoch 13:  0.9398438\n",
            "Train accuracy at epoch 14:  0.9826365\n",
            "Eval accuracy at epoch 14:  0.9319336\n",
            "Train accuracy at epoch 15:  0.9910447\n",
            "Eval accuracy at epoch 15:  0.94082034\n",
            "Train accuracy at epoch 16:  0.99211013\n",
            "Eval accuracy at epoch 16:  0.9416992\n",
            "Train accuracy at epoch 17:  0.99493206\n",
            "Eval accuracy at epoch 17:  0.9433594\n",
            "Train accuracy at epoch 18:  0.9956519\n",
            "Eval accuracy at epoch 18:  0.94570315\n",
            "Train accuracy at epoch 19:  0.9945289\n",
            "Eval accuracy at epoch 19:  0.94365233\n",
            "Train accuracy at epoch 20:  0.99648696\n",
            "Eval accuracy at epoch 20:  0.944043\n"
          ]
        }
      ],
      "source": [
        "# Train model\n",
        "ugrnn_model.fit(train_dataset, eval_dataset, optimizer, num_epochs=20, \n",
        "                early_stopping_rounds=5, verbose=1, train_from_scratch=True)"
      ]
    },
    {
      "cell_type": "code",
      "source": [
        "history = {}\n",
        "\n",
        "def evaluate(test_data):\n",
        "        test_acc=tf.keras.metrics.Accuracy('test_acc')\n",
        "        history['test_acc'] = []\n",
        "        # Check accuracy test dataset\n",
        "        for step, (X, y, seq_length) in enumerate(test_data):\n",
        "          logits = ugrnn_model.predict(X, seq_length, False)\n",
        "          preds = tf.argmax(logits, axis=1)\n",
        "          test_acc(preds, y)\n",
        "        history['test_acc'].append(test_acc.result().numpy())\n",
        "        \n",
        "        print('Test accuracy is {} \\n\\n: ' .format(history['test_acc'][-1]))\n",
        "      \n",
        "        # Reset metrics\n",
        "        test_acc.reset_states()"
      ],
      "metadata": {
        "id": "dsX3UIeKFqZF"
      },
      "execution_count": 23,
      "outputs": []
    },
    {
      "cell_type": "code",
      "source": [
        "evaluate(test_dataset)"
      ],
      "metadata": {
        "id": "PxPfL3UMDrTo",
        "colab": {
          "base_uri": "https://localhost:8080/"
        },
        "outputId": "902b0d61-ae76-4e90-80af-65ededeb8c5b"
      },
      "execution_count": 24,
      "outputs": [
        {
          "output_type": "stream",
          "name": "stdout",
          "text": [
            "Test accuracy is 0.9356120824813843 \n",
            "\n",
            ": \n"
          ]
        }
      ]
    },
    {
      "cell_type": "markdown",
      "metadata": {
        "id": "7HloeEKJP7Ub"
      },
      "source": [
        "### Performance comparison\n",
        "---"
      ]
    },
    {
      "cell_type": "code",
      "execution_count": 25,
      "metadata": {
        "id": "LW-exJpxP7Ub",
        "colab": {
          "base_uri": "https://localhost:8080/",
          "height": 265
        },
        "outputId": "53f87b22-f5f8-4d12-a026-b94e44319808"
      },
      "outputs": [
        {
          "output_type": "display_data",
          "data": {
            "text/plain": [
              "<Figure size 720x288 with 2 Axes>"
            ],
            "image/png": "[encoded data removed]"
          },
          "metadata": {
            "needs_background": "light"
          }
        }
      ],
      "source": [
        "f, (ax1, ax2) = plt.subplots(1, 2, sharey=True, figsize=(10, 4))\n",
        "ax1.plot(range(len(lstm_model.history['train_acc'])), lstm_model.history['train_acc'], \n",
        "         label='LSTM Train Accuracy');\n",
        "ax1.plot(range(len(lstm_model.history['eval_acc'])), lstm_model.history['eval_acc'], \n",
        "         label='LSTM Test Accuracy');\n",
        "ax2.plot(range(len(ugrnn_model.history['train_acc'])), ugrnn_model.history['train_acc'],\n",
        "         label='UGRNN Train Accuracy');\n",
        "ax2.plot(range(len(ugrnn_model.history['eval_acc'])), ugrnn_model.history['eval_acc'],\n",
        "         label='UGRNN Test Accuracy');\n",
        "ax1.legend();\n",
        "ax2.legend();"
      ]
    },
    {
      "cell_type": "markdown",
      "metadata": {
        "id": "XrMkRP-0P7Ub"
      },
      "source": [
        "## Test network on new samples\n",
        "---\n",
        "\n"
      ]
    },
    {
      "cell_type": "code",
      "execution_count": 26,
      "metadata": {
        "id": "nXSOpyz0P7Uc"
      },
      "outputs": [],
      "source": [
        "###############################################################\n",
        "# Import/download necessary libraries to process new sequences\n",
        "###############################################################\n",
        "import nltk\n",
        "try:\n",
        "    nltk.data.find('tokenizers/punkt')\n",
        "except LookupError:\n",
        "    nltk.download('punkt')\n",
        "from nltk.tokenize import word_tokenize\n",
        "import re"
      ]
    },
    {
      "cell_type": "code",
      "execution_count": 27,
      "metadata": {
        "id": "5zDt0vVlP7Uc"
      },
      "outputs": [],
      "source": [
        "def process_new_review(review):\n",
        "    '''Function to process a new review.\n",
        "       Args:\n",
        "           review: original text review, string.\n",
        "       Returns:\n",
        "           indexed_review: sequence of integers, words correspondence \n",
        "                           from word2idx.\n",
        "           seq_length: the length of the review.\n",
        "    '''\n",
        "    indexed_review = re.sub(r'<[^>]+>', ' ', review)\n",
        "    indexed_review = word_tokenize(indexed_review)\n",
        "    indexed_review = [word2idx[word] if word in list(word2idx.keys()) else \n",
        "                      word2idx['Unknown_token'] for word in indexed_review]\n",
        "    indexed_review = indexed_review + [word2idx['End_token']]\n",
        "    seq_length = len(indexed_review)    \n",
        "    return indexed_review, seq_length"
      ]
    },
    {
      "cell_type": "code",
      "execution_count": 28,
      "metadata": {
        "id": "8ZmRTbHCP7Uc"
      },
      "outputs": [],
      "source": [
        "sent_dict = {0: 'negative', 1: 'positive'}"
      ]
    },
    {
      "cell_type": "code",
      "execution_count": 29,
      "metadata": {
        "id": "lo8W4xfdP7Uc"
      },
      "outputs": [],
      "source": [
        "review_score_10 = \"I think Bad Apples is a great time and I recommend! I enjoyed the opening, which gave way for the rest of the movie to occur. The main couple was very likable and I believed all of their interactions. They had great onscreen chemistry and made me laugh quite a few times! Keeping the girls in the masks but seeing them in action was something I loved. It kept a mystery to them throughout. I think the dialogue was great. The kills were fun. And the special surprise gore effect at the end was AWESOME!! I won't spoil that part ;) I also enjoyed how the movie wrapped up. It gave a very urban legends type feel of \\\"did you ever hear the story...\\\". Plus is leaves the door open for another film which I wouldn't mind at all. Long story short, I think if you take the film for what it is; a fun little horror flick, then you won't be disappointed! HaPpY eArLy HaLLoWeEn!\""
      ]
    },
    {
      "cell_type": "code",
      "execution_count": 30,
      "metadata": {
        "id": "jL2PWrzPP7Uc"
      },
      "outputs": [],
      "source": [
        "review_score_4 = \"A young couple comes to a small town, where the husband get a job working in a hospital. The wife which you instantly hate or dislike works home, at the same time a horrible murders takes place in this small town by two masked killers. Bad Apples is just your tipical B-horror movie with average acting (I give them that. Altough you may get the idea that some of the actors are crazy-convervative Christians), but the script is just bad, and that's what destroys the film.\""
      ]
    },
    {
      "cell_type": "code",
      "execution_count": 31,
      "metadata": {
        "id": "dGJG7F6kP7Uc"
      },
      "outputs": [],
      "source": [
        "review_score_1 = \"When you first start watching this movie, you can tell its going to be a painful ride. the audio is poor...the attacks by the \\\"girls\\\" are like going back in time, to watching the old rocky films, were blows never touched. the editing is poor with it aswell, example the actress in is the bath when her husband comes home, clearly you see her wearing a flesh coloured bra in the bath. no hints or spoilers, just wait till you find it in a bargain basket of cheap dvds in a couple of weeks\""
      ]
    },
    {
      "cell_type": "code",
      "execution_count": 32,
      "metadata": {
        "id": "M-hrh4LCP7Ud"
      },
      "outputs": [],
      "source": [
        "new_reviews = [review_score_10, review_score_4, review_score_1]\n",
        "scores = [10, 4, 1]"
      ]
    },
    {
      "cell_type": "code",
      "execution_count": 33,
      "metadata": {
        "id": "OvVuzgTwP7Ud",
        "colab": {
          "base_uri": "https://localhost:8080/"
        },
        "outputId": "74ba6ff9-efe4-4565-d529-53ea4ad3c560"
      },
      "outputs": [
        {
          "output_type": "stream",
          "name": "stdout",
          "text": [
            "The sentiment for the review with score 10 was found to be positive\n",
            "The sentiment for the review with score 4 was found to be negative\n",
            "The sentiment for the review with score 1 was found to be negative\n"
          ]
        }
      ],
      "source": [
        "with tf.device(device):\n",
        "    for original_review, score in zip(new_reviews, scores):\n",
        "        indexed_review, seq_length = process_new_review(original_review)\n",
        "        indexed_review = tf.reshape(tf.constant(indexed_review), (1,-1))\n",
        "        seq_length = tf.reshape(tf.constant(seq_length), (1,))\n",
        "        logits = lstm_model.predict(indexed_review, seq_length, False)\n",
        "        pred = tf.argmax(logits, axis=1).numpy()[0]\n",
        "        print('The sentiment for the review with score %d was found to be %s'\n",
        "              %(score, sent_dict[pred]))"
      ]
    }
  ],
  "metadata": {
    "accelerator": "GPU",
    "colab": {
      "name": "RNN_ADAM,lr,batchsizeoptim.ipynb",
      "provenance": [],
      "collapsed_sections": []
    },
    "kernelspec": {
      "display_name": "Python 3",
      "language": "python",
      "name": "python3"
    },
    "language_info": {
      "codemirror_mode": {
        "name": "ipython",
        "version": 3
      },
      "file_extension": ".py",
      "mimetype": "text/x-python",
      "name": "python",
      "nbconvert_exporter": "python",
      "pygments_lexer": "ipython3",
      "version": "3.6.4"
    }
  },
  "nbformat": 4,
  "nbformat_minor": 0
}